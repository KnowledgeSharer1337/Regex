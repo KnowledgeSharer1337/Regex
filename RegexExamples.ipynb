{
 "cells": [
  {
   "cell_type": "markdown",
   "metadata": {},
   "source": [
    "# Regex Examples\n",
    "\n",
    "## Useful resources:\n",
    "https://www.rexegg.com/regex-quickstart.html\n",
    "\n",
    "https://regex101.com/\n",
    "\n",
    "http://www.regular-expressions.info/\n",
    "\n",
    "http://regex.info/book.html\n",
    "\n",
    "## Cheat sheet:\n",
    "http://web.mit.edu/hackl/www/lab/turkshop/slides/regex-cheatsheet.pdf"
   ]
  },
  {
   "cell_type": "code",
   "execution_count": null,
   "metadata": {},
   "outputs": [],
   "source": [
    "# Add the path to the folder contains all the text-files  \n",
    "folderPath = r\"\"\n",
    "if(folderPath[-1] != \"\\\\\"):\n",
    "    folderPath += \"\\\\\""
   ]
  },
  {
   "cell_type": "code",
   "execution_count": null,
   "metadata": {
    "code_folding": [],
    "hide_input": true
   },
   "outputs": [],
   "source": [
    "import re\n",
    "\n",
    "def getListMatches(pattern, text):\n",
    "    #return re.findall(pattern, text)\n",
    "    matches = re.finditer(pattern, text)\n",
    "    list_matches = []\n",
    "\n",
    "    for _, match in enumerate(matches, start=1):\n",
    "        list_matches.append( match.group() )\n",
    "    \n",
    "    return list_matches"
   ]
  },
  {
   "cell_type": "code",
   "execution_count": null,
   "metadata": {
    "hide_input": true
   },
   "outputs": [],
   "source": [
    "from IPython.core.display import HTML\n",
    "\n",
    "def addColouredHTMLText(text, colour):\n",
    "    return \"<font color='{}'>{}</font> \".format(colour, text)\n",
    "\n",
    "def printSearchedExpressions(file, pattern):\n",
    "    filePath = folderPath + file\n",
    "    \n",
    "    html_string = \"\"\n",
    "    \n",
    "    with open(filePath) as txt:\n",
    "        for line in txt:\n",
    "            findings = getListMatches(pattern, line)\n",
    "            if(len(findings) != 0):\n",
    "                for finding in findings:\n",
    "                    html_string += addColouredHTMLText(finding, \"green\")\n",
    "                #html_string += addColouredHTMLText(line, \"green\")\n",
    "                html_string += \"<br> \"\n",
    "                    \n",
    "            else:\n",
    "                html_string += addColouredHTMLText(line, \"red\")\n",
    "                html_string += \"<br> \"\n",
    "    \n",
    "    return HTML(html_string)\n",
    "\n",
    "def printSearchedReplacedExpressions(file, pattern, outputFormat):\n",
    "    filePath = folderPath + file\n",
    "    \n",
    "    html_string = \"\"\n",
    "    \n",
    "    with open(filePath) as txt:\n",
    "        for line in txt:\n",
    "            \n",
    "            replacement = re.sub(pattern, outputFormat, line)\n",
    "            html_string += addColouredHTMLText(replacement, \"black\")\n",
    "            html_string += \"<br> \"\n",
    "        return HTML(html_string)"
   ]
  },
  {
   "cell_type": "markdown",
   "metadata": {},
   "source": [
    "# regex01.txt\n",
    "\n",
    "<font color='green'>fooaaaabar</font> <br>\n",
    "<font color='green'>fooabar</font> <br>\n",
    "<font color='green'>foobar</font> <br>\n",
    "<font color='green'>fooaabar</font> <br>\n",
    "<font color='red'>fooxxxbar</font> <br>\n",
    "<font color='red'>fooxbar</font> <br>"
   ]
  },
  {
   "cell_type": "markdown",
   "metadata": {},
   "source": [
    "<b>a*</b> stands for zero or more occurences of 'a'"
   ]
  },
  {
   "cell_type": "code",
   "execution_count": null,
   "metadata": {},
   "outputs": [],
   "source": [
    "file = 'regex01.txt'\n",
    "pattern = r\"fooa*bar\"\n",
    "\n",
    "printSearchedExpressions(file, pattern)"
   ]
  },
  {
   "cell_type": "markdown",
   "metadata": {},
   "source": [
    "# regex02.txt\n",
    "\n",
    "<font color='green'>fooabar</font> <br>\n",
    "<font color='green'>fooxbar</font> <br>\n",
    "<font color='red'>baryfoo</font> <br>\n",
    "<font color='red'>foobar</font> <br>\n",
    "<font color='red'>fooxybar</font> <br>\n",
    "<font color='green'>foocbar</font> <br>"
   ]
  },
  {
   "cell_type": "markdown",
   "metadata": {},
   "source": [
    "**.** stands for **one** character, regardless of a letter or a number.<br>\n",
    "Therefore, it is a single wildcard. Can represent any character at exactly the location."
   ]
  },
  {
   "cell_type": "code",
   "execution_count": null,
   "metadata": {},
   "outputs": [],
   "source": [
    "file = 'regex02.txt'\n",
    "pattern = 'foo.bar'\n",
    "\n",
    "printSearchedExpressions(file, pattern)"
   ]
  },
  {
   "cell_type": "markdown",
   "metadata": {},
   "source": [
    "# regex03.txt\n",
    "\n",
    "<font color='green'>foobar</font> <br>\n",
    "<font color='red'>barfoo</font> <br>\n",
    "<font color='green'>fooabcbar</font> <br>\n",
    "<font color='green'>foobxcbar</font> <br>\n",
    "<font color='red'>barcbyfoo</font> <br>\n",
    "<font color='green'>foozbar</font> <br>\n",
    "<font color='red'>barafoo</font> <br>\n",
    "<font color='red'>barabfoo</font> <br>"
   ]
  },
  {
   "cell_type": "markdown",
   "metadata": {},
   "source": [
    "<b>.*</b> stands for zero or more occurrences of the wildcard.<br>\n",
    "In other words: Zero or more occurences of **any** character."
   ]
  },
  {
   "cell_type": "code",
   "execution_count": null,
   "metadata": {},
   "outputs": [],
   "source": [
    "file = 'regex03.txt'\n",
    "pattern = 'foo.*bar'\n",
    "\n",
    "printSearchedExpressions(file, pattern)"
   ]
  },
  {
   "cell_type": "markdown",
   "metadata": {},
   "source": [
    "# regex04.txt\n",
    "\n",
    "<font color='red'>fooxxxbar</font> <br>\n",
    "<font color='green'>foo   bar</font> <br>\n",
    "<font color='red'>fooxbar</font> <br>\n",
    "<font color='red'>fooxxbar</font> <br>\n",
    "<font color='green'>foo bar</font> <br>\n",
    "<font color='green'>foo       bar</font> <br>\n",
    "<font color='green'>foobar</font> <br>\n",
    "<font color='red'>fooyyybar</font> <br>\n",
    "\n",
    "\\s represent whitespace. \\s* represents zero or more occurences."
   ]
  },
  {
   "cell_type": "code",
   "execution_count": null,
   "metadata": {},
   "outputs": [],
   "source": [
    "file = 'regex04.txt'\n",
    "pattern = 'foo\\s*bar'\n",
    "\n",
    "printSearchedExpressions(file, pattern)"
   ]
  },
  {
   "cell_type": "markdown",
   "metadata": {},
   "source": [
    "# regex05.txt - Part 1\n",
    "\n",
    "<font color='green'>foo</font> <br>\n",
    "<font color='red'>moo</font> <br>\n",
    "<font color='green'>coo</font> <br>\n",
    "<font color='red'>moo</font> <br>\n",
    "<font color='red'>doo</font> <br>\n",
    "<font color='green'>poo</font> <br>\n",
    "<font color='red'>boo</font> <br>\n",
    "<font color='red'>hoo</font> <br>"
   ]
  },
  {
   "cell_type": "code",
   "execution_count": null,
   "metadata": {},
   "outputs": [],
   "source": [
    "file = 'regex05.txt'\n",
    "pattern = '[f,c,p]oo'\n",
    "\n",
    "printSearchedExpressions(file, pattern)"
   ]
  },
  {
   "cell_type": "markdown",
   "metadata": {},
   "source": [
    "# regex05.txt - Part 2\n",
    "\n",
    "<font color='green'>foo</font> <br>\n",
    "<font color='red'>moo</font> <br>\n",
    "<font color='green'>coo</font> <br>\n",
    "<font color='green'>moo</font> <br>\n",
    "<font color='green'>doo</font> <br>\n",
    "<font color='green'>poo</font> <br>\n",
    "<font color='green'>boo</font> <br>\n",
    "<font color='red'>hoo</font> <br>"
   ]
  },
  {
   "cell_type": "code",
   "execution_count": null,
   "metadata": {},
   "outputs": [],
   "source": [
    "file = 'regex05.txt'\n",
    "pattern = '[^mh]oo'\n",
    "\n",
    "printSearchedExpressions(file, pattern)"
   ]
  },
  {
   "cell_type": "markdown",
   "metadata": {},
   "source": [
    "# regex08.txt - Part 1\n",
    "\n",
    "<font color='green'>joo</font> <br>\n",
    "<font color='red'>boo</font> <br>\n",
    "<font color='green'>koo</font> <br>\n",
    "<font color='green'>loo</font> <br>\n",
    "<font color='red'>woo</font> <br>\n",
    "<font color='green'>moo</font> <br>\n",
    "<font color='green'>zoo</font> <br>\n",
    "<font color='red'>coo</font> <br>"
   ]
  },
  {
   "cell_type": "code",
   "execution_count": null,
   "metadata": {},
   "outputs": [],
   "source": [
    "file = 'regex08.txt'\n",
    "pattern = '[^bwzc]oo'\n",
    "pattern = '[j-mz]oo'\n",
    "\n",
    "printSearchedExpressions(file, pattern)"
   ]
  },
  {
   "cell_type": "markdown",
   "metadata": {},
   "source": [
    "# regex10.txt\n",
    "\n",
    "<font color='green'>joo</font> <br>\n",
    "<font color='red'>boo</font> <br>\n",
    "<font color='green'>Koo</font> <br>\n",
    "<font color='green'>Loo</font> <br>\n",
    "<font color='red'>woo</font> <br>\n",
    "<font color='green'>moo</font> <br>\n",
    "<font color='green'>zoo</font> <br>\n",
    "<font color='red'>coo</font> <br>"
   ]
  },
  {
   "cell_type": "code",
   "execution_count": null,
   "metadata": {},
   "outputs": [],
   "source": [
    "file = 'regex10.txt'\n",
    "pattern = '[j-mzJ-M]oo'\n",
    "\n",
    "printSearchedExpressions(file, pattern)"
   ]
  },
  {
   "cell_type": "markdown",
   "metadata": {},
   "source": [
    "# regex11.txt\n",
    "\n",
    "<font color='green'>xxx.yy</font> <br>\n",
    "<font color='green'>xx.yyyy</font> <br>\n",
    "<font color='green'>x.yy</font> <br>\n",
    "<font color='red'>xy</font> <br>\n",
    "<font color='red'>xxyy</font> <br>\n",
    "<font color='red'>yyxx</font> <br>\n",
    "<font color='red'>yx</font> <br>\n",
    "<font color='red'>yxxx</font> <br>"
   ]
  },
  {
   "cell_type": "markdown",
   "metadata": {},
   "source": [
    "x* zero or multiple occurences of x <br>\n",
    "\\. followed by a dot, which needs to be escaped <br>\n",
    "y* zero or multiple occurences of y"
   ]
  },
  {
   "cell_type": "code",
   "execution_count": null,
   "metadata": {},
   "outputs": [],
   "source": [
    "file = 'regex11.txt'\n",
    "pattern = 'x*\\.y*'\n",
    "\n",
    "printSearchedExpressions(file, pattern)"
   ]
  },
  {
   "cell_type": "markdown",
   "metadata": {},
   "source": [
    "# regex12.txt\n",
    "\n",
    "<font color='green'>x#y</font> <br>\n",
    "<font color='green'>x:y</font> <br>\n",
    "<font color='green'>x.y</font> <br>\n",
    "<font color='red'>x&y</font> <br>\n",
    "<font color='red'>x%y</font> <br>"
   ]
  },
  {
   "cell_type": "code",
   "execution_count": null,
   "metadata": {},
   "outputs": [],
   "source": [
    "file = 'regex12.txt'\n",
    "pattern = 'x[#:.]y'\n",
    "pattern = 'x[^&%]y'\n",
    "\n",
    "printSearchedExpressions(file, pattern)"
   ]
  },
  {
   "cell_type": "markdown",
   "metadata": {},
   "source": [
    "# regex13.txt\n",
    "\n",
    "<font color='green'>x#y</font> <br>\n",
    "<font color='green'>x:y</font> <br>\n",
    "<font color='green'>x^y</font> <br>\n",
    "<font color='red'>x&y</font> <br>\n",
    "<font color='red'>x%y</font> <br>"
   ]
  },
  {
   "cell_type": "code",
   "execution_count": null,
   "metadata": {},
   "outputs": [],
   "source": [
    "file = 'regex13.txt'\n",
    "pattern = 'x[#:\\^]y'\n",
    "\n",
    "printSearchedExpressions(file, pattern)"
   ]
  },
  {
   "cell_type": "markdown",
   "metadata": {},
   "source": [
    "# regex14.txt\n",
    "\n",
    "<font color='green'>x#y</font> <br>\n",
    "<font color='green'>x\\y</font> <br>\n",
    "<font color='green'>x^y</font> <br>\n",
    "<font color='red'>x&y</font> <br>\n",
    "<font color='red'>x%y</font> <br>"
   ]
  },
  {
   "cell_type": "code",
   "execution_count": null,
   "metadata": {},
   "outputs": [],
   "source": [
    "file = 'regex14.txt'\n",
    "#pattern = 'x[^&%]y'\n",
    "pattern = 'x[#\\\\\\^]y'\n",
    "\n",
    "printSearchedExpressions(file, pattern)"
   ]
  },
  {
   "cell_type": "markdown",
   "metadata": {},
   "source": [
    "# regex15.txt\n",
    "\n",
    "<font color='green'>foo bar baz</font> <br>\n",
    "<font color='red'>bar foo baz</font> <br>\n",
    "<font color='red'>baz foo bar</font> <br>\n",
    "<font color='red'>bar baz foo</font> <br>\n",
    "<font color='green'>foo baz bar</font> <br>\n",
    "<font color='red'>baz bar foo</font> <br>"
   ]
  },
  {
   "cell_type": "markdown",
   "metadata": {},
   "source": [
    "^ is a placeholder that indicates the beginning of a line. <br> \n",
    "The interpreation of ^ differs within square and outside of brackets. <br>\n",
    "Outside, it is a placeholder for beginning of a line."
   ]
  },
  {
   "cell_type": "code",
   "execution_count": null,
   "metadata": {},
   "outputs": [],
   "source": [
    "file = 'regex15.txt'\n",
    "pattern = '^foo.*'\n",
    "\n",
    "printSearchedExpressions(file, pattern)"
   ]
  },
  {
   "cell_type": "markdown",
   "metadata": {},
   "source": [
    "# regex16.txt\n",
    "\n",
    "<font color='red'>foo bar baz</font> <br>\n",
    "<font color='red'>bar foo baz</font> <br>\n",
    "<font color='green'>baz foo bar</font> <br>\n",
    "<font color='red'>bar baz foo</font> <br>\n",
    "<font color='green'>foo baz bar</font> <br>\n",
    "<font color='red'>baz bar foo</font> <br>"
   ]
  },
  {
   "cell_type": "markdown",
   "metadata": {},
   "source": [
    "$ means \"end of the line\"."
   ]
  },
  {
   "cell_type": "code",
   "execution_count": null,
   "metadata": {},
   "outputs": [],
   "source": [
    "file = 'regex16.txt'\n",
    "pattern = '.*bar$'\n",
    "\n",
    "printSearchedExpressions(file, pattern)"
   ]
  },
  {
   "cell_type": "markdown",
   "metadata": {},
   "source": [
    "# regex17.txt\n",
    "\n",
    "<font color='green'>foo</font> <br>\n",
    "<font color='red'>foo bar</font> <br>\n",
    "<font color='red'>baz foo</font> <br>\n",
    "<font color='red'>foo bar baz</font> <br>\n",
    "<font color='red'>baz bar foo</font> <br>"
   ]
  },
  {
   "cell_type": "code",
   "execution_count": null,
   "metadata": {},
   "outputs": [],
   "source": [
    "file = 'regex17.txt'\n",
    "pattern = '^foo$'\n",
    "\n",
    "printSearchedExpressions(file, pattern)"
   ]
  },
  {
   "cell_type": "markdown",
   "metadata": {},
   "source": [
    "# regex18.txt\n",
    "\n",
    "<font color='green'>834</font> <br>\n",
    "<font color='green'>519</font> <br>\n",
    "<font color='red'>4874</font> <br>\n",
    "<font color='red'>5</font> <br>\n",
    "<font color='red'>89</font> <br>\n",
    "<font color='red'>45687</font> <br>\n",
    "<font color='red'>25</font> <br>\n",
    "<font color='green'>645</font> <br>"
   ]
  },
  {
   "cell_type": "markdown",
   "metadata": {},
   "source": [
    "{n} repeats the pattern n times"
   ]
  },
  {
   "cell_type": "code",
   "execution_count": null,
   "metadata": {},
   "outputs": [],
   "source": [
    "file = 'regex18.txt'\n",
    "pattern = '^[0-9][0-9][0-9]$'\n",
    "pattern = '^[0-9]{5}$'\n",
    "\n",
    "printSearchedExpressions(file, pattern)"
   ]
  },
  {
   "cell_type": "markdown",
   "metadata": {},
   "source": [
    "# regex19.txt\n",
    "\n",
    "<font color='green'>lion</font> <br>\n",
    "<font color='green'>tiger</font> <br>\n",
    "<font color='red'>leopard</font> <br>\n",
    "<font color='red'>fox</font> <br>\n",
    "<font color='red'>kangaroo</font> <br>\n",
    "<font color='red'>bat</font> <br>\n",
    "<font color='green'>mouse</font> <br>\n",
    "<font color='green'>cuckoo</font> <br>\n",
    "<font color='green'>deer</font>"
   ]
  },
  {
   "cell_type": "markdown",
   "metadata": {},
   "source": [
    "{n,m} repeats the pattern for n, n+1 and .... m times. "
   ]
  },
  {
   "cell_type": "code",
   "execution_count": null,
   "metadata": {},
   "outputs": [],
   "source": [
    "file = 'regex19.txt'\n",
    "pattern = '^[a-z]{4,6}$'\n",
    "\n",
    "printSearchedExpressions(file, pattern)"
   ]
  },
  {
   "cell_type": "markdown",
   "metadata": {},
   "source": [
    "# regex20.txt\n",
    "\n",
    "<font color='red'>ha</font> <br>\n",
    "<font color='green'>hahahahaha</font> <br>\n",
    "<font color='red'>hahaha</font> <br>\n",
    "<font color='green'>hahahaha</font> <br>\n",
    "<font color='red'>haha</font> <br>\n",
    "<font color='red'></font> <br>\n",
    "<font color='green'>hahahahahaha</font> <br>\n",
    "<font color='green'>hahahahahahahaha</font> <br>\n",
    "<font color='green'>hahahahahahahahaha</font>"
   ]
  },
  {
   "cell_type": "markdown",
   "metadata": {},
   "source": [
    "{n,} at least n repetitions of the pattern."
   ]
  },
  {
   "cell_type": "code",
   "execution_count": null,
   "metadata": {},
   "outputs": [],
   "source": [
    "file = 'regex20.txt'\n",
    "pattern = '^(ha){4,}$'\n",
    "\n",
    "printSearchedExpressions(file, pattern)"
   ]
  },
  {
   "cell_type": "markdown",
   "metadata": {},
   "source": [
    "# regex21.txt\n",
    "\n",
    "<font color='green'>ha</font> <br>\n",
    "<font color='green'>haha</font> <br>\n",
    "<font color='red'>hahahahaha</font> <br>\n",
    "<font color='red'>hahahaha</font> <br>\n",
    "<font color='red'>hahaha</font> <br>\n",
    "<font color='red'>hahahahahahaha</font> <br>\n",
    "<font color='red'>hahahahahaha</font> <br>"
   ]
  },
  {
   "cell_type": "markdown",
   "metadata": {},
   "source": [
    "{,m} stands for maximal m repetitions"
   ]
  },
  {
   "cell_type": "code",
   "execution_count": null,
   "metadata": {},
   "outputs": [],
   "source": [
    "file = 'regex21.txt'\n",
    "pattern = '^(ha){,2}$'\n",
    "\n",
    "printSearchedExpressions(file, pattern)"
   ]
  },
  {
   "cell_type": "markdown",
   "metadata": {},
   "source": [
    "# regex22.txt\n",
    "\n",
    "<font color='green'>fooaaaabar</font> <br>\n",
    "<font color='green'>fooabar</font> <br>\n",
    "<font color='red'>foobar</font> <br>\n",
    "<font color='green'>fooaabar</font> <br>\n",
    "<font color='red'>fooxxxbar</font> <br>\n",
    "<font color='red'>fooxbar</font>"
   ]
  },
  {
   "cell_type": "code",
   "execution_count": null,
   "metadata": {},
   "outputs": [],
   "source": [
    "file = 'regex22.txt'\n",
    "pattern = '^foo[a]{1,}bar$'\n",
    "\n",
    "printSearchedExpressions(file, pattern)"
   ]
  },
  {
   "cell_type": "markdown",
   "metadata": {},
   "source": [
    "**a+** means one or more occurences of a"
   ]
  },
  {
   "cell_type": "code",
   "execution_count": null,
   "metadata": {},
   "outputs": [],
   "source": [
    "file = 'regex22.txt'\n",
    "pattern = '^foo[a]+bar$'\n",
    "\n",
    "printSearchedExpressions(file, pattern)"
   ]
  },
  {
   "cell_type": "markdown",
   "metadata": {},
   "source": [
    "# regex23.txt\n",
    "\n",
    "<font color='green'>https://website.com</font> <br>\n",
    "<font color='green'>http://website.com</font> <br>\n",
    "<font color='red'>httpss://website.de</font> <br>\n",
    "<font color='red'>httpx://website.de</font> <br>\n",
    "<font color='red'>httpxx://website.com</font> <br>"
   ]
  },
  {
   "cell_type": "markdown",
   "metadata": {},
   "source": [
    "**s?** means zero or one occurences. <br>\n",
    "**( | )** means the logical conjunction \"or\"."
   ]
  },
  {
   "cell_type": "code",
   "execution_count": null,
   "metadata": {},
   "outputs": [],
   "source": [
    "file = 'regex23.txt'\n",
    "pattern = r'(http)s?://website.(com|de)'\n",
    "\n",
    "printSearchedExpressions(file, pattern)"
   ]
  },
  {
   "cell_type": "markdown",
   "metadata": {},
   "source": [
    "# regex24.txt\n",
    "\n",
    "<font color='red'>sapwood</font> <br>\n",
    "<font color='red'>rosewood</font> <br>\n",
    "<font color='green'>logwood</font> <br>\n",
    "<font color='red'>teakwood</font> <br>\n",
    "<font color='green'>plywood</font> <br>\n",
    "<font color='red'>redwood</font>"
   ]
  },
  {
   "cell_type": "code",
   "execution_count": null,
   "metadata": {},
   "outputs": [],
   "source": [
    "file = 'regex24.txt'\n",
    "pattern = r'^(log|ply)wood$'\n",
    "\n",
    "printSearchedExpressions(file, pattern)"
   ]
  },
  {
   "cell_type": "markdown",
   "metadata": {},
   "source": [
    "# regex25.txt\n",
    "\n",
    "<font color='black'>1280x720 convert to 1280 pix by 720 pix</font> <br>\n",
    "<font color='black'>1920x1080</font> <br>\n",
    "<font color='black'>1600x900</font> <br>\n",
    "<font color='black'>1280x1024</font> <br>\n",
    "<font color='black'>800x600</font> <br>\n",
    "<font color='black'>1024x768</font>"
   ]
  },
  {
   "cell_type": "markdown",
   "metadata": {},
   "source": [
    "**( )** groups the findings."
   ]
  },
  {
   "cell_type": "code",
   "execution_count": null,
   "metadata": {},
   "outputs": [],
   "source": [
    "file = 'regex25.txt'\n",
    "pattern = r'([0-9]+)x([0-9]+)'\n",
    "outputFormat = r'\\1 pix by \\2 pix'\n",
    "\n",
    "printSearchedReplacedExpressions(file, pattern, outputFormat)"
   ]
  },
  {
   "cell_type": "markdown",
   "metadata": {},
   "source": [
    "# regex26.txt\n",
    "\n",
    "<font color='black'>John Wallace convert to Wallacelace, John</font> <br>\n",
    "<font color='black'>Steve King</font> <br>\n",
    "<font color='black'>Martin Cook</font> <br>\n",
    "<font color='black'>Adam Smith</font> <br>\n",
    "<font color='black'>Irene Peter</font> <br>\n",
    "<font color='black'>Alice Johnson</font> "
   ]
  },
  {
   "cell_type": "code",
   "execution_count": null,
   "metadata": {},
   "outputs": [],
   "source": [
    "file = 'regex26.txt'\n",
    "pattern = r'([a-zA-Z]+)\\s([a-zA-Z]+)'\n",
    "outputFormat = r'\\2, \\1'\n",
    "\n",
    "printSearchedReplacedExpressions(file, pattern, outputFormat)"
   ]
  },
  {
   "cell_type": "markdown",
   "metadata": {},
   "source": [
    "# regex27.txt\n",
    "\n",
    "<font color='black'>7:32 convert to 32 mins past 7</font> <br>\n",
    "<font color='black'>6:12</font> <br>\n",
    "<font color='black'>12:23</font> <br>\n",
    "<font color='black'>1:23</font> <br>\n",
    "<font color='black'>11:33</font> <br>\n",
    "<font color='black'>4:21</font> "
   ]
  },
  {
   "cell_type": "code",
   "execution_count": null,
   "metadata": {},
   "outputs": [],
   "source": [
    "file = 'regex27.txt'\n",
    "pattern = r'([0-9]{1,2}):([0-9]{1,2})'\n",
    "outputFormat = r'\\2 mins past \\1'\n",
    "\n",
    "printSearchedReplacedExpressions(file, pattern, outputFormat)"
   ]
  },
  {
   "cell_type": "markdown",
   "metadata": {},
   "source": [
    "# regex28.txt\n",
    "\n",
    "<font color='black'>914.582.3013 convert to xxx.xxx.3013</font> <br>\n",
    "<font color='black'>873.334.2589</font> <br>\n",
    "<font color='black'>521.589.3147</font> <br>\n",
    "<font color='black'>625.235.3698</font> <br>\n",
    "<font color='black'>895.568.2145</font> <br>\n",
    "<font color='black'>745.256.3369</font> "
   ]
  },
  {
   "cell_type": "code",
   "execution_count": null,
   "metadata": {},
   "outputs": [],
   "source": [
    "file = 'regex28.txt'\n",
    "pattern = r'[0-9]{3}\\.[0-9]{3}\\.([0-9]{4})'\n",
    "outputFormat = r'xxx.xxx.\\1'\n",
    "\n",
    "printSearchedReplacedExpressions(file, pattern, outputFormat)"
   ]
  },
  {
   "cell_type": "markdown",
   "metadata": {},
   "source": [
    "Group patterns"
   ]
  },
  {
   "cell_type": "code",
   "execution_count": null,
   "metadata": {},
   "outputs": [],
   "source": [
    "file = 'regex28.txt'\n",
    "pattern = r'([0-9]{3}\\.){2}([0-9]{4})'\n",
    "outputFormat = r'xxx.xxx.\\2'\n",
    "\n",
    "printSearchedReplacedExpressions(file, pattern, outputFormat)"
   ]
  },
  {
   "cell_type": "markdown",
   "metadata": {},
   "source": [
    "# regex29.txt\n",
    "\n",
    "<font color='black'>Jan 5th 1987 convert to 5-Jan-87</font> <br>\n",
    "<font color='black'>Dec 26th 2010 </font> <br>\n",
    "<font color='black'>Mar 2nd 1923</font> <br>\n",
    "<font color='black'>Oct 1st 2008</font> <br>\n",
    "<font color='black'>Aug 3rd 2009</font> <br>\n",
    "<font color='black'>Jun 10th 2001</font> "
   ]
  },
  {
   "cell_type": "code",
   "execution_count": null,
   "metadata": {},
   "outputs": [],
   "source": [
    "file = 'regex29.txt'\n",
    "pattern = r'([A-Za-z]{3})\\s([0-9]{1,2})[A-Za-z]{2}\\s[0-9]{2}([0-9]{2})'\n",
    "outputFormat = r'\\2-\\1-\\3'\n",
    "\n",
    "printSearchedReplacedExpressions(file, pattern, outputFormat)"
   ]
  },
  {
   "cell_type": "markdown",
   "metadata": {},
   "source": [
    "# regex30.txt\n",
    "\n",
    "<font color='black'>(914).582.3013 convert to 914.582.3013</font> <br>\n",
    "<font color='black'>(873).334.2589</font> <br>\n",
    "<font color='black'>(521).589.3147</font> <br>\n",
    "<font color='black'>(625).235.3698</font> <br>\n",
    "<font color='black'>(895).568.2145</font> <br>\n",
    "<font color='black'>(745).256.3369</font> "
   ]
  },
  {
   "cell_type": "code",
   "execution_count": null,
   "metadata": {},
   "outputs": [],
   "source": [
    "file = 'regex30.txt'\n",
    "pattern = r'\\(([0-9]{3})\\)(\\.[0-9]{3}\\.[0-9]{4})'\n",
    "outputFormat = r'\\1\\2'\n",
    "\n",
    "printSearchedReplacedExpressions(file, pattern, outputFormat)"
   ]
  },
  {
   "cell_type": "markdown",
   "metadata": {},
   "source": [
    "# Own example 1:\n",
    "taken from: https://stackoverflow.com/questions/65649033/regex-how-to-ignore-dots-in-connected-words/65649084"
   ]
  },
  {
   "cell_type": "markdown",
   "metadata": {},
   "source": [
    "## Input\n",
    "08-01-2021: There is a System.InvalidCalculationException and a System.OutOfboundsException- System reboots <br>\n",
    "09-01-2021: SuperSystem recognised a System.IO.WritingException ask user what to do next <br>\n",
    "10-01-2021: Hello again, how are you today? <br>\n",
    "10-01-2021: Oh no, not again an InternalException.NullReference.NonCritical.User we should fix it! <br>\n",
    "\n",
    "## Output\n",
    "System.InvalidCalculationException System.OutOfboundsException <br>\n",
    "System.IO.WritingException <br>\n",
    "10-01-2021: Hello again, how are you today? <br>\n",
    "InternalException.NullReference.NonCritical.User"
   ]
  },
  {
   "cell_type": "markdown",
   "metadata": {},
   "source": [
    "### Explanation:\n",
    "**\\b** is looking for word boundaries <br>\n",
    "**?:** states that the following term is not a group even the statement is within ()-brackets <br>\n",
    "**\\w** looks for **all** letters [a-zA-Z], digits [0-9] as well as _ <br>\n",
    "**\\w+** states 1 or more repetitions of \\w <br>\n",
    "<b>(term)*</b> states 1 or more repetition of the given term <br>\n",
    "<b>\\\\.</b> describes a real \".\" Normally, a point within a regex pattern states anything (except line breaks). <br>\n",
    "But here you are looking for real \".\". Therefore, you need to escape it."
   ]
  },
  {
   "cell_type": "code",
   "execution_count": null,
   "metadata": {},
   "outputs": [],
   "source": [
    "file = 'ownExample01.txt'\n",
    "pattern = r'\\b(?:\\w+\\.)*\\w*Exception(?:\\.\\w+)*\\b'\n",
    "\n",
    "printSearchedExpressions(file, pattern)"
   ]
  }
 ],
 "metadata": {
  "kernelspec": {
   "display_name": "Python 3",
   "language": "python",
   "name": "python3"
  },
  "language_info": {
   "codemirror_mode": {
    "name": "ipython",
    "version": 3
   },
   "file_extension": ".py",
   "mimetype": "text/x-python",
   "name": "python",
   "nbconvert_exporter": "python",
   "pygments_lexer": "ipython3",
   "version": "3.8.5"
  },
  "varInspector": {
   "cols": {
    "lenName": 16,
    "lenType": 16,
    "lenVar": 40
   },
   "kernels_config": {
    "python": {
     "delete_cmd_postfix": "",
     "delete_cmd_prefix": "del ",
     "library": "var_list.py",
     "varRefreshCmd": "print(var_dic_list())"
    },
    "r": {
     "delete_cmd_postfix": ") ",
     "delete_cmd_prefix": "rm(",
     "library": "var_list.r",
     "varRefreshCmd": "cat(var_dic_list()) "
    }
   },
   "position": {
    "height": "364.4px",
    "left": "1166px",
    "right": "20px",
    "top": "120px",
    "width": "350px"
   },
   "types_to_exclude": [
    "module",
    "function",
    "builtin_function_or_method",
    "instance",
    "_Feature"
   ],
   "window_display": false
  }
 },
 "nbformat": 4,
 "nbformat_minor": 4
}
